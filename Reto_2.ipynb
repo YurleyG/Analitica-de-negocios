{
  "nbformat": 4,
  "nbformat_minor": 0,
  "metadata": {
    "colab": {
      "provenance": [],
      "include_colab_link": true
    },
    "kernelspec": {
      "name": "python3",
      "display_name": "Python 3"
    },
    "language_info": {
      "name": "python"
    }
  },
  "cells": [
    {
      "cell_type": "markdown",
      "metadata": {
        "id": "view-in-github",
        "colab_type": "text"
      },
      "source": [
        "<a href=\"https://colab.research.google.com/github/YurleyG/Analitica-de-negocios/blob/main/Reto_2.ipynb\" target=\"_parent\"><img src=\"https://colab.research.google.com/assets/colab-badge.svg\" alt=\"Open In Colab\"/></a>"
      ]
    },
    {
      "cell_type": "markdown",
      "source": [
        "**Descripción de las variables**\n",
        "1. College: indica si la persona posee un titulo universitario (1) o no(0). *Es la variable a determinar*\n",
        "2. Business: representa el sector del negocio siendo Hardware: 0 y Software: 1\n",
        "\n",
        "Y las demás variables socio-económicas a analizar tales como edad, sexo, años, certificados, feedback, salario y NPS"
      ],
      "metadata": {
        "id": "10Ea268hndHW"
      }
    },
    {
      "cell_type": "markdown",
      "source": [
        "0. Se procede con la carga de las librerias de trabajo"
      ],
      "metadata": {
        "id": "NCVO2rplcsoK"
      }
    },
    {
      "cell_type": "code",
      "execution_count": null,
      "metadata": {
        "id": "oUySdPlccYvd",
        "colab": {
          "base_uri": "https://localhost:8080/"
        },
        "outputId": "9bad27a5-c297-40b8-9d6d-559cfe7523b0"
      },
      "outputs": [
        {
          "output_type": "stream",
          "name": "stdout",
          "text": [
            "Mounted at /content/drive\n"
          ]
        }
      ],
      "source": [
        "import numpy as np\n",
        "import pandas as pd\n",
        "\n",
        "#Para implementación y evaluación del modelo\n",
        "from sklearn.tree import DecisionTreeClassifier\n",
        "from sklearn.metrics import confusion_matrix\n",
        "\n",
        "#Para la carga automática de los archivos desde el drive\n",
        "from google.colab import drive\n",
        "drive.mount('/content/drive')"
      ]
    },
    {
      "cell_type": "markdown",
      "source": [
        "1. Se procede con la carga de la base de datos"
      ],
      "metadata": {
        "id": "PldNAdLwc8ZN"
      }
    },
    {
      "cell_type": "code",
      "source": [
        "nxl=\"/content/drive/MyDrive/Colab Notebooks/2. TechSalesReport_Int_L.xlsx\"\n",
        "XDB=pd.read_excel(nxl,sheet_name=0)\n",
        "XDB.head(20) #Solo se muestran 20 datos\n",
        "#Seleccionamos las variables\n",
        "XD=XDB[[\"Business\",\"Age\",\"Female\",\"Years\",\"Certificates\",\"Feedback\",\"Salary\",\"NPS\"]]\n",
        "yd=XDB[[\"College\"]]\n"
      ],
      "metadata": {
        "id": "p7xhfz2nc_Rm"
      },
      "execution_count": null,
      "outputs": []
    },
    {
      "cell_type": "markdown",
      "source": [
        "2. Se procede con la implementación del modelo"
      ],
      "metadata": {
        "id": "dGoEPqLceLjR"
      }
    },
    {
      "cell_type": "code",
      "source": [
        "# Hardware 0, Software 1\n",
        "XD['Business'] = XD['Business'].map({'Hardware': 0, 'Software': 1})\n",
        "\n",
        "mar=DecisionTreeClassifier(criterion='gini', max_depth=4)\n",
        "mar.fit(XD,yd)\n",
        "\n",
        "#Se procede con el despliegue del arbol\n",
        "from sklearn.tree import export_graphviz #Para exportar\n",
        "from pydotplus import graph_from_dot_data #Crear el gráfico\n",
        "\n",
        "vs=[\"Business\",\"Age\",\"Female\",\"Years\",\"Certificates\",\"Feedback\",\"Salary\",\"NPS\"]\n",
        "\n",
        "dot_data=export_graphviz(mar,feature_names=vs)\n",
        "graph=graph_from_dot_data(dot_data)\n",
        "graph.write_png('ArbolPreApr.png')"
      ],
      "metadata": {
        "colab": {
          "base_uri": "https://localhost:8080/"
        },
        "id": "gF64JhqmeO5I",
        "outputId": "1dd59ac8-a61a-418d-9af8-34116a246ecb"
      },
      "execution_count": null,
      "outputs": [
        {
          "output_type": "stream",
          "name": "stderr",
          "text": [
            "<ipython-input-18-36746554fb65>:2: SettingWithCopyWarning: \n",
            "A value is trying to be set on a copy of a slice from a DataFrame.\n",
            "Try using .loc[row_indexer,col_indexer] = value instead\n",
            "\n",
            "See the caveats in the documentation: https://pandas.pydata.org/pandas-docs/stable/user_guide/indexing.html#returning-a-view-versus-a-copy\n",
            "  XD['Business'] = XD['Business'].map({'Hardware': 0, 'Software': 1})\n"
          ]
        },
        {
          "output_type": "execute_result",
          "data": {
            "text/plain": [
              "True"
            ]
          },
          "metadata": {},
          "execution_count": 18
        }
      ]
    },
    {
      "cell_type": "markdown",
      "source": [
        "4. Número de personas inscritas y las no inscritas"
      ],
      "metadata": {
        "id": "xzVPZe7Ljc1U"
      }
    },
    {
      "cell_type": "code",
      "source": [
        "# Contar el número de personas inscritas y no inscritas\n",
        "inscritos = XDB['College'].value_counts()[1]\n",
        "no_inscritos = XDB['College'].value_counts()[0]\n",
        "\n",
        "# Imprimir los resultados\n",
        "print(f\"Número de personas inscritas: {inscritos}\")\n",
        "print(f\"Número de personas no inscritas: {no_inscritos}\")"
      ],
      "metadata": {
        "colab": {
          "base_uri": "https://localhost:8080/"
        },
        "id": "y5eSerwvjcPC",
        "outputId": "f0e57c3d-2b1b-4cbc-b8f6-0bcfcddfbbdf"
      },
      "execution_count": null,
      "outputs": [
        {
          "output_type": "stream",
          "name": "stdout",
          "text": [
            "Número de personas inscritas: 4470\n",
            "Número de personas no inscritas: 17520\n"
          ]
        },
        {
          "output_type": "stream",
          "name": "stderr",
          "text": [
            "<ipython-input-14-d533849e36f7>:2: FutureWarning: Series.__getitem__ treating keys as positions is deprecated. In a future version, integer keys will always be treated as labels (consistent with DataFrame behavior). To access a value by position, use `ser.iloc[pos]`\n",
            "  inscritos = XDB['College'].value_counts()[1]\n",
            "<ipython-input-14-d533849e36f7>:3: FutureWarning: Series.__getitem__ treating keys as positions is deprecated. In a future version, integer keys will always be treated as labels (consistent with DataFrame behavior). To access a value by position, use `ser.iloc[pos]`\n",
            "  no_inscritos = XDB['College'].value_counts()[0]\n"
          ]
        }
      ]
    },
    {
      "cell_type": "markdown",
      "source": [
        "5. Desempeño del modelo"
      ],
      "metadata": {
        "id": "zEOptXMTfZp2"
      }
    },
    {
      "cell_type": "code",
      "source": [
        "ydp=mar.predict(XD)\n",
        "cm=confusion_matrix(yd,ydp)\n",
        "print(cm)\n",
        "\n",
        "VN=cm[0,0]; FP=cm[0,1]; FN=cm[0,1]; VP=cm[1,1]\n",
        "\n",
        "Exactitud=(VP+VN)/(VP+VN+FP+FN) #Funcionamiento general del modelo\n",
        "print(\"La exactitud es:\\=n\",Exactitud)\n",
        "Sensibilidad=VP/(VP+FN) #Cómo se comportó el modelo con los aprobados\n",
        "print('la Sensibilidad es:\\=n',Sensibilidad)\n",
        "Especificidad=VN/(VN+FP) #Cómo se comportó el modelo con los negados\n",
        "print('la Especificidad es:\\=n',Especificidad)\n",
        "Precisión=VP/(VP+FP) #Cuál es el acierto clasificando los positivos\n",
        "print('la Precisión es:\\=n',Precisión)\n",
        "TasaError=(FP+FN)/(VP+VN+FP+FN) #Equivocación general\n",
        "print('la TasaError es:\\=n',TasaError)\n",
        "PredNeg=VN+FP #Cómo funciona el modelo negando creditos\n",
        "print('la PredNeg es:\\=n',PredNeg)"
      ],
      "metadata": {
        "colab": {
          "base_uri": "https://localhost:8080/"
        },
        "id": "Nf4aw9vKfdot",
        "outputId": "5c469deb-fe71-4d0c-dd90-11b9ae280740"
      },
      "execution_count": null,
      "outputs": [
        {
          "output_type": "stream",
          "name": "stdout",
          "text": [
            "[[  114  4356]\n",
            " [   69 17451]]\n",
            "La exactitud es:\\=n 0.6684553031167941\n",
            "la Sensibilidad es:\\=n 0.8002476269087908\n",
            "la Especificidad es:\\=n 0.025503355704697986\n",
            "la Precisión es:\\=n 0.8002476269087908\n",
            "la TasaError es:\\=n 0.33154469688320587\n",
            "la PredNeg es:\\=n 4470\n"
          ]
        }
      ]
    },
    {
      "cell_type": "markdown",
      "source": [
        "5. Creamos el informe para los que están inscritos"
      ],
      "metadata": {
        "id": "G91FqekcfoZV"
      }
    },
    {
      "cell_type": "code",
      "source": [
        "# Realizar la predicción utilizando el modelo entrenado (mar)\n",
        "ydp = mar.predict(XD)\n",
        "\n",
        "# Agregar las predicciones como una nueva columna al DataFrame XDB2\n",
        "XDB['College_Predicción'] = ydp\n",
        "\n",
        "# Mostrar las predicciones junto con otros datos relevantes\n",
        "print(XDB[['College', 'College_Predicción']])\n",
        "\n",
        "#Crear el informe con el College\n",
        "dfp=pd.DataFrame(np.column_stack((XD,ydp)))\n",
        "dfp.columns=[\"Business\",\"Age\",\"Female\",\"Years\",\"Certificates\",\"Feedback\",\"Salary\",\"NPS\",\"College\"]\n",
        "dfp.head(10)\n",
        "dfp.to_excel(\"InformeCollege.xlsx\")"
      ],
      "metadata": {
        "colab": {
          "base_uri": "https://localhost:8080/"
        },
        "id": "jAz_gYRpkM7u",
        "outputId": "b8843cfc-905a-41bf-e083-5e26d74d6449"
      },
      "execution_count": null,
      "outputs": [
        {
          "output_type": "stream",
          "name": "stdout",
          "text": [
            "      College College_Predicción\n",
            "0         Yes                Yes\n",
            "1         Yes                Yes\n",
            "2         Yes                Yes\n",
            "3         Yes                Yes\n",
            "4         Yes                Yes\n",
            "...       ...                ...\n",
            "21985     Yes                Yes\n",
            "21986     Yes                Yes\n",
            "21987     Yes                Yes\n",
            "21988     Yes                Yes\n",
            "21989     Yes                Yes\n",
            "\n",
            "[21990 rows x 2 columns]\n"
          ]
        }
      ]
    },
    {
      "cell_type": "markdown",
      "source": [
        "**Análisis de resultados**\n",
        "\n",
        "Para la implementación del modelo de Arbol de decisión, se tomaron un total de 9 variables, 8 de entrada entre las que se destacan:Business,Age,Female,Years,Certificates,Feedback,Salary y NPS, y una variable de salida que permite evaluar si la persona analizada posee un titulo universitario. A partir de la creación del arbol de decisión se pudo evidenciar que la variable menos relevante fue el salario y que no se presentan nodos puros sin embargo hay ciertos con indices muy bajos como 0.075 y 0.138. Para la construcción del modelo se tuvieron un total de 21990 personas divididos en 17520 con titulo y 4470 que no. Por medio de la ejecución del modelo se tuvo una exactitud cercana al 70%, lo que indica la eficacia del modelo para pronosticar. Cabe recalcar, que el coefciente de sensibilidad estuvo en 80% lo que reafirma el buen funcionamiento del modelo."
      ],
      "metadata": {
        "id": "HsHCkLXnqFWx"
      }
    }
  ]
}